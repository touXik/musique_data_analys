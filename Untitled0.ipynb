{
 "cells": [
  {
   "cell_type": "code",
   "execution_count": 1,
   "metadata": {
    "id": "sfiraakZhou8"
   },
   "outputs": [
    {
     "ename": "",
     "evalue": "",
     "output_type": "error",
     "traceback": [
      "\u001b[1;31mCanceled future for execute_request message before replies were done"
     ]
    },
    {
     "ename": "",
     "evalue": "",
     "output_type": "error",
     "traceback": [
      "\u001b[1;31mLe Kernel s’est bloqué lors de l’exécution du code dans la cellule active ou une cellule précédente. Veuillez vérifier le code dans la ou les cellules pour identifier une cause possible de l’échec. Cliquez <a href='https://aka.ms/vscodeJupyterKernelCrash'>ici</a> pour plus d’informations. Pour plus d’informations, consultez Jupyter <a href='command:jupyter.viewOutput'>log</a>."
     ]
    }
   ],
   "source": [
    "import pandas as pd\n",
    "import numpy as np\n",
    "import seaborn as sns\n",
    "import matplotlib.pyplot as plt"
   ]
  },
  {
   "cell_type": "code",
   "execution_count": 1,
   "metadata": {},
   "outputs": [
    {
     "ename": "",
     "evalue": "",
     "output_type": "error",
     "traceback": [
      "\u001b[1;31mCanceled future for execute_request message before replies were done"
     ]
    },
    {
     "ename": "",
     "evalue": "",
     "output_type": "error",
     "traceback": [
      "\u001b[1;31mLe Kernel s’est bloqué lors de l’exécution du code dans la cellule active ou une cellule précédente. Veuillez vérifier le code dans la ou les cellules pour identifier une cause possible de l’échec. Cliquez <a href='https://aka.ms/vscodeJupyterKernelCrash'>ici</a> pour plus d’informations. Pour plus d’informations, consultez Jupyter <a href='command:jupyter.viewOutput'>log</a>."
     ]
    }
   ],
   "source": [
    "import numpy as np "
   ]
  },
  {
   "cell_type": "code",
   "execution_count": null,
   "metadata": {},
   "outputs": [],
   "source": [
    "import pandas as pd \n",
    "python -m pip install --upgrade jupyter ipykernel\n"
   ]
  },
  {
   "cell_type": "code",
   "execution_count": 1,
   "metadata": {},
   "outputs": [
    {
     "name": "stdout",
     "output_type": "stream",
     "text": [
      "hello\n"
     ]
    }
   ],
   "source": [
    "print('hello')"
   ]
  },
  {
   "cell_type": "code",
   "execution_count": null,
   "metadata": {},
   "outputs": [],
   "source": []
  },
  {
   "cell_type": "code",
   "execution_count": null,
   "metadata": {},
   "outputs": [],
   "source": [
    "print('hello')"
   ]
  },
  {
   "cell_type": "code",
   "execution_count": null,
   "metadata": {},
   "outputs": [],
   "source": []
  },
  {
   "cell_type": "code",
   "execution_count": null,
   "metadata": {
    "colab": {
     "base_uri": "https://localhost:8080/",
     "height": 206
    },
    "id": "qiW8mrt7ieSD",
    "outputId": "1ba953ea-ffbe-423a-f1a7-d2fe60895c1d"
   },
   "outputs": [],
   "source": [
    "data1 = pd.read_csv('/content/dates_artists.csv')\n",
    "data1.head()"
   ]
  },
  {
   "cell_type": "code",
   "execution_count": null,
   "metadata": {
    "colab": {
     "base_uri": "https://localhost:8080/",
     "height": 556
    },
    "id": "W3JH8CHSjX9R",
    "outputId": "08799658-9b12-424c-846c-dc1f809b4b07"
   },
   "outputs": [],
   "source": [
    "data = pd.read_csv('/content/artists.csv')\n",
    "data.head()"
   ]
  },
  {
   "cell_type": "code",
   "execution_count": null,
   "metadata": {
    "id": "DaE4040ajrVg"
   },
   "outputs": [],
   "source": [
    "df1=data1.copy()\n",
    "df=data.copy()"
   ]
  },
  {
   "cell_type": "code",
   "execution_count": null,
   "metadata": {
    "id": "5mLe-dXFjcng"
   },
   "outputs": [],
   "source": [
    "df = pd.merge(df, df1, on='mbid', how='left')"
   ]
  },
  {
   "cell_type": "code",
   "execution_count": null,
   "metadata": {
    "colab": {
     "base_uri": "https://localhost:8080/",
     "height": 556
    },
    "id": "8zkF3zBwjzQt",
    "outputId": "385cb974-0f9f-49bb-f52c-1062076d19a5"
   },
   "outputs": [],
   "source": [
    "df.head()"
   ]
  },
  {
   "cell_type": "code",
   "execution_count": null,
   "metadata": {
    "colab": {
     "base_uri": "https://localhost:8080/",
     "height": 492
    },
    "id": "YtzZv7nSj08F",
    "outputId": "1548ea46-e599-4453-e512-b5cdbabd1f1d"
   },
   "outputs": [],
   "source": [
    "(df.isna().sum()/df.shape[0]).sort_values(ascending=True)"
   ]
  },
  {
   "cell_type": "code",
   "execution_count": null,
   "metadata": {
    "id": "CNWAWaWWkXLi"
   },
   "outputs": [],
   "source": [
    "df['tags_mb'] = df['tags_mb'].fillna(df['tags_lastfm'])\n",
    "df['tags_lastfm'] = df['tags_lastfm'].fillna(df['tags_mb'])\n",
    "df['name'] = df['name'].fillna(df['tags_mb'])"
   ]
  },
  {
   "cell_type": "code",
   "execution_count": null,
   "metadata": {
    "id": "-PjT1dYVlkJZ"
   },
   "outputs": [],
   "source": [
    "df['country_mb'] = df['country_mb'].fillna(df['tags_lastfm'])\n",
    "df['country_lastfm'] = df['country_lastfm'].fillna(df['country_mb'])"
   ]
  },
  {
   "cell_type": "code",
   "execution_count": null,
   "metadata": {
    "id": "WLIeMDlllnnJ"
   },
   "outputs": [],
   "source": [
    "df['artist_mb'] = df['artist_mb'].fillna(df['artist_lastfm'])\n",
    "df['artist_lastfm'] = df['artist_lastfm'].fillna(df['artist_mb'])"
   ]
  },
  {
   "cell_type": "code",
   "execution_count": null,
   "metadata": {
    "colab": {
     "base_uri": "https://localhost:8080/"
    },
    "id": "sWIzEC8fnvJu",
    "outputId": "6905b429-00eb-41a0-e653-5c898279c5bd"
   },
   "outputs": [],
   "source": [
    "df.shape"
   ]
  },
  {
   "cell_type": "code",
   "execution_count": null,
   "metadata": {
    "colab": {
     "base_uri": "https://localhost:8080/"
    },
    "id": "rY3JSZQxlpkI",
    "outputId": "9649299f-82a3-4ef7-e990-0a1f50dbc771"
   },
   "outputs": [],
   "source": [
    "df=df.drop_duplicates(subset=list(df.iloc[:, [1, 2, 3, 4, 10]].columns))\n",
    "df.shape"
   ]
  },
  {
   "cell_type": "code",
   "execution_count": null,
   "metadata": {
    "id": "rgYxaeECl4mT"
   },
   "outputs": [],
   "source": [
    "df=df.drop([])"
   ]
  },
  {
   "cell_type": "code",
   "execution_count": null,
   "metadata": {
    "id": "0vbjpVrFl6uF"
   },
   "outputs": [],
   "source": [
    "#..............a suivre"
   ]
  },
  {
   "cell_type": "code",
   "execution_count": null,
   "metadata": {
    "id": "A6izQEJooDcF"
   },
   "outputs": [],
   "source": [
    "df.groupe('')[].mean()"
   ]
  }
 ],
 "metadata": {
  "colab": {
   "provenance": []
  },
  "kernelspec": {
   "display_name": "Python 3.8.3 32-bit",
   "language": "python",
   "name": "python3"
  },
  "language_info": {
   "codemirror_mode": {
    "name": "ipython",
    "version": 3
   },
   "file_extension": ".py",
   "mimetype": "text/x-python",
   "name": "python",
   "nbconvert_exporter": "python",
   "pygments_lexer": "ipython3",
   "version": "3.8.3"
  },
  "vscode": {
   "interpreter": {
    "hash": "3fb663ff29765cccc743c49a9ce22849d8724641cabdb9061e9fb44ce899647b"
   }
  }
 },
 "nbformat": 4,
 "nbformat_minor": 1
}
